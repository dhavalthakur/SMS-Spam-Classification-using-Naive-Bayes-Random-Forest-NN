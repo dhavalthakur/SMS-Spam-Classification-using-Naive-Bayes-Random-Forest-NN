{
  "nbformat": 4,
  "nbformat_minor": 0,
  "metadata": {
    "colab": {
      "name": "SMS Spam Classification.ipynb",
      "provenance": []
    },
    "kernelspec": {
      "name": "python3",
      "display_name": "Python 3"
    }
  },
  "cells": [
    {
      "cell_type": "code",
      "metadata": {
        "id": "o4mZtmIr88Mm",
        "colab_type": "code",
        "colab": {
          "base_uri": "https://localhost:8080/",
          "height": 35
        },
        "outputId": "59e38e9b-e899-4b07-ce2f-06b4fed7fafb"
      },
      "source": [
        "#Importing the colab drive library to get the dataset\n",
        "import numpy as np\n",
        "import pandas as pd\n",
        "import matplotlib.pyplot as plt\n",
        "import seaborn as sns\n",
        "import scipy as sp\n",
        "from google.colab import drive\n",
        "from sklearn import feature_extraction, model_selection, naive_bayes, metrics, svm\n",
        "from sklearn.ensemble import RandomForestClassifier\n",
        "from sklearn.model_selection import train_test_split\n",
        "from sklearn.metrics import precision_recall_fscore_support as score\n",
        "%matplotlib inline\n",
        "drive.mount('/content/drive')"
      ],
      "execution_count": 46,
      "outputs": [
        {
          "output_type": "stream",
          "text": [
            "Drive already mounted at /content/drive; to attempt to forcibly remount, call drive.mount(\"/content/drive\", force_remount=True).\n"
          ],
          "name": "stdout"
        }
      ]
    },
    {
      "cell_type": "code",
      "metadata": {
        "id": "KwjX77yI9JGN",
        "colab_type": "code",
        "colab": {}
      },
      "source": [
        "dataset = pd.read_csv(\"/content/drive/My Drive/SMS_Spam_Classification/spam.csv\", encoding='latin-1')\n"
      ],
      "execution_count": 47,
      "outputs": []
    },
    {
      "cell_type": "code",
      "metadata": {
        "id": "xeROP7Wg9dRM",
        "colab_type": "code",
        "colab": {
          "base_uri": "https://localhost:8080/",
          "height": 202
        },
        "outputId": "fd07b91d-ab2b-4754-a801-20518f4539af"
      },
      "source": [
        "dataset.head()"
      ],
      "execution_count": 48,
      "outputs": [
        {
          "output_type": "execute_result",
          "data": {
            "text/html": [
              "<div>\n",
              "<style scoped>\n",
              "    .dataframe tbody tr th:only-of-type {\n",
              "        vertical-align: middle;\n",
              "    }\n",
              "\n",
              "    .dataframe tbody tr th {\n",
              "        vertical-align: top;\n",
              "    }\n",
              "\n",
              "    .dataframe thead th {\n",
              "        text-align: right;\n",
              "    }\n",
              "</style>\n",
              "<table border=\"1\" class=\"dataframe\">\n",
              "  <thead>\n",
              "    <tr style=\"text-align: right;\">\n",
              "      <th></th>\n",
              "      <th>v1</th>\n",
              "      <th>v2</th>\n",
              "      <th>Unnamed: 2</th>\n",
              "      <th>Unnamed: 3</th>\n",
              "      <th>Unnamed: 4</th>\n",
              "    </tr>\n",
              "  </thead>\n",
              "  <tbody>\n",
              "    <tr>\n",
              "      <th>0</th>\n",
              "      <td>ham</td>\n",
              "      <td>Go until jurong point, crazy.. Available only ...</td>\n",
              "      <td>NaN</td>\n",
              "      <td>NaN</td>\n",
              "      <td>NaN</td>\n",
              "    </tr>\n",
              "    <tr>\n",
              "      <th>1</th>\n",
              "      <td>ham</td>\n",
              "      <td>Ok lar... Joking wif u oni...</td>\n",
              "      <td>NaN</td>\n",
              "      <td>NaN</td>\n",
              "      <td>NaN</td>\n",
              "    </tr>\n",
              "    <tr>\n",
              "      <th>2</th>\n",
              "      <td>spam</td>\n",
              "      <td>Free entry in 2 a wkly comp to win FA Cup fina...</td>\n",
              "      <td>NaN</td>\n",
              "      <td>NaN</td>\n",
              "      <td>NaN</td>\n",
              "    </tr>\n",
              "    <tr>\n",
              "      <th>3</th>\n",
              "      <td>ham</td>\n",
              "      <td>U dun say so early hor... U c already then say...</td>\n",
              "      <td>NaN</td>\n",
              "      <td>NaN</td>\n",
              "      <td>NaN</td>\n",
              "    </tr>\n",
              "    <tr>\n",
              "      <th>4</th>\n",
              "      <td>ham</td>\n",
              "      <td>Nah I don't think he goes to usf, he lives aro...</td>\n",
              "      <td>NaN</td>\n",
              "      <td>NaN</td>\n",
              "      <td>NaN</td>\n",
              "    </tr>\n",
              "  </tbody>\n",
              "</table>\n",
              "</div>"
            ],
            "text/plain": [
              "     v1  ... Unnamed: 4\n",
              "0   ham  ...        NaN\n",
              "1   ham  ...        NaN\n",
              "2  spam  ...        NaN\n",
              "3   ham  ...        NaN\n",
              "4   ham  ...        NaN\n",
              "\n",
              "[5 rows x 5 columns]"
            ]
          },
          "metadata": {
            "tags": []
          },
          "execution_count": 48
        }
      ]
    },
    {
      "cell_type": "code",
      "metadata": {
        "id": "B0-O6lxH-vUd",
        "colab_type": "code",
        "colab": {}
      },
      "source": [
        "#removing unnamed columns\n",
        "dataset = dataset.drop('Unnamed: 2', 1)\n",
        "dataset = dataset.drop('Unnamed: 3', 1)\n",
        "dataset = dataset.drop('Unnamed: 4', 1)"
      ],
      "execution_count": 49,
      "outputs": []
    },
    {
      "cell_type": "code",
      "metadata": {
        "id": "A1brZure-z3y",
        "colab_type": "code",
        "colab": {
          "base_uri": "https://localhost:8080/",
          "height": 202
        },
        "outputId": "51960929-170e-46d0-f473-3344790206d6"
      },
      "source": [
        "dataset.head()"
      ],
      "execution_count": 50,
      "outputs": [
        {
          "output_type": "execute_result",
          "data": {
            "text/html": [
              "<div>\n",
              "<style scoped>\n",
              "    .dataframe tbody tr th:only-of-type {\n",
              "        vertical-align: middle;\n",
              "    }\n",
              "\n",
              "    .dataframe tbody tr th {\n",
              "        vertical-align: top;\n",
              "    }\n",
              "\n",
              "    .dataframe thead th {\n",
              "        text-align: right;\n",
              "    }\n",
              "</style>\n",
              "<table border=\"1\" class=\"dataframe\">\n",
              "  <thead>\n",
              "    <tr style=\"text-align: right;\">\n",
              "      <th></th>\n",
              "      <th>v1</th>\n",
              "      <th>v2</th>\n",
              "    </tr>\n",
              "  </thead>\n",
              "  <tbody>\n",
              "    <tr>\n",
              "      <th>0</th>\n",
              "      <td>ham</td>\n",
              "      <td>Go until jurong point, crazy.. Available only ...</td>\n",
              "    </tr>\n",
              "    <tr>\n",
              "      <th>1</th>\n",
              "      <td>ham</td>\n",
              "      <td>Ok lar... Joking wif u oni...</td>\n",
              "    </tr>\n",
              "    <tr>\n",
              "      <th>2</th>\n",
              "      <td>spam</td>\n",
              "      <td>Free entry in 2 a wkly comp to win FA Cup fina...</td>\n",
              "    </tr>\n",
              "    <tr>\n",
              "      <th>3</th>\n",
              "      <td>ham</td>\n",
              "      <td>U dun say so early hor... U c already then say...</td>\n",
              "    </tr>\n",
              "    <tr>\n",
              "      <th>4</th>\n",
              "      <td>ham</td>\n",
              "      <td>Nah I don't think he goes to usf, he lives aro...</td>\n",
              "    </tr>\n",
              "  </tbody>\n",
              "</table>\n",
              "</div>"
            ],
            "text/plain": [
              "     v1                                                 v2\n",
              "0   ham  Go until jurong point, crazy.. Available only ...\n",
              "1   ham                      Ok lar... Joking wif u oni...\n",
              "2  spam  Free entry in 2 a wkly comp to win FA Cup fina...\n",
              "3   ham  U dun say so early hor... U c already then say...\n",
              "4   ham  Nah I don't think he goes to usf, he lives aro..."
            ]
          },
          "metadata": {
            "tags": []
          },
          "execution_count": 50
        }
      ]
    },
    {
      "cell_type": "code",
      "metadata": {
        "id": "rndTDtNUFlDS",
        "colab_type": "code",
        "colab": {}
      },
      "source": [
        "dataset = dataset.rename(columns = {'v1':'label','v2':'message'})"
      ],
      "execution_count": 51,
      "outputs": []
    },
    {
      "cell_type": "code",
      "metadata": {
        "id": "2DtvXve5ygbp",
        "colab_type": "code",
        "colab": {
          "base_uri": "https://localhost:8080/",
          "height": 171
        },
        "outputId": "30790c44-e351-4015-a142-89ad19b1e448"
      },
      "source": [
        "dataset.groupby('label').describe()"
      ],
      "execution_count": 60,
      "outputs": [
        {
          "output_type": "execute_result",
          "data": {
            "text/html": [
              "<div>\n",
              "<style scoped>\n",
              "    .dataframe tbody tr th:only-of-type {\n",
              "        vertical-align: middle;\n",
              "    }\n",
              "\n",
              "    .dataframe tbody tr th {\n",
              "        vertical-align: top;\n",
              "    }\n",
              "\n",
              "    .dataframe thead tr th {\n",
              "        text-align: left;\n",
              "    }\n",
              "\n",
              "    .dataframe thead tr:last-of-type th {\n",
              "        text-align: right;\n",
              "    }\n",
              "</style>\n",
              "<table border=\"1\" class=\"dataframe\">\n",
              "  <thead>\n",
              "    <tr>\n",
              "      <th></th>\n",
              "      <th colspan=\"4\" halign=\"left\">message</th>\n",
              "    </tr>\n",
              "    <tr>\n",
              "      <th></th>\n",
              "      <th>count</th>\n",
              "      <th>unique</th>\n",
              "      <th>top</th>\n",
              "      <th>freq</th>\n",
              "    </tr>\n",
              "    <tr>\n",
              "      <th>label</th>\n",
              "      <th></th>\n",
              "      <th></th>\n",
              "      <th></th>\n",
              "      <th></th>\n",
              "    </tr>\n",
              "  </thead>\n",
              "  <tbody>\n",
              "    <tr>\n",
              "      <th>ham</th>\n",
              "      <td>4825</td>\n",
              "      <td>4516</td>\n",
              "      <td>Sorry, I'll call later</td>\n",
              "      <td>30</td>\n",
              "    </tr>\n",
              "    <tr>\n",
              "      <th>spam</th>\n",
              "      <td>747</td>\n",
              "      <td>653</td>\n",
              "      <td>Please call our customer service representativ...</td>\n",
              "      <td>4</td>\n",
              "    </tr>\n",
              "  </tbody>\n",
              "</table>\n",
              "</div>"
            ],
            "text/plain": [
              "      message                                                               \n",
              "        count unique                                                top freq\n",
              "label                                                                       \n",
              "ham      4825   4516                             Sorry, I'll call later   30\n",
              "spam      747    653  Please call our customer service representativ...    4"
            ]
          },
          "metadata": {
            "tags": []
          },
          "execution_count": 60
        }
      ]
    },
    {
      "cell_type": "code",
      "metadata": {
        "id": "f6TyUk6aFnaI",
        "colab_type": "code",
        "colab": {
          "base_uri": "https://localhost:8080/",
          "height": 171
        },
        "outputId": "f75d8aba-9ee9-4afb-bc05-bbd8fc7de93e"
      },
      "source": [
        "dataset.head(4)"
      ],
      "execution_count": 52,
      "outputs": [
        {
          "output_type": "execute_result",
          "data": {
            "text/html": [
              "<div>\n",
              "<style scoped>\n",
              "    .dataframe tbody tr th:only-of-type {\n",
              "        vertical-align: middle;\n",
              "    }\n",
              "\n",
              "    .dataframe tbody tr th {\n",
              "        vertical-align: top;\n",
              "    }\n",
              "\n",
              "    .dataframe thead th {\n",
              "        text-align: right;\n",
              "    }\n",
              "</style>\n",
              "<table border=\"1\" class=\"dataframe\">\n",
              "  <thead>\n",
              "    <tr style=\"text-align: right;\">\n",
              "      <th></th>\n",
              "      <th>label</th>\n",
              "      <th>message</th>\n",
              "    </tr>\n",
              "  </thead>\n",
              "  <tbody>\n",
              "    <tr>\n",
              "      <th>0</th>\n",
              "      <td>ham</td>\n",
              "      <td>Go until jurong point, crazy.. Available only ...</td>\n",
              "    </tr>\n",
              "    <tr>\n",
              "      <th>1</th>\n",
              "      <td>ham</td>\n",
              "      <td>Ok lar... Joking wif u oni...</td>\n",
              "    </tr>\n",
              "    <tr>\n",
              "      <th>2</th>\n",
              "      <td>spam</td>\n",
              "      <td>Free entry in 2 a wkly comp to win FA Cup fina...</td>\n",
              "    </tr>\n",
              "    <tr>\n",
              "      <th>3</th>\n",
              "      <td>ham</td>\n",
              "      <td>U dun say so early hor... U c already then say...</td>\n",
              "    </tr>\n",
              "  </tbody>\n",
              "</table>\n",
              "</div>"
            ],
            "text/plain": [
              "  label                                            message\n",
              "0   ham  Go until jurong point, crazy.. Available only ...\n",
              "1   ham                      Ok lar... Joking wif u oni...\n",
              "2  spam  Free entry in 2 a wkly comp to win FA Cup fina...\n",
              "3   ham  U dun say so early hor... U c already then say..."
            ]
          },
          "metadata": {
            "tags": []
          },
          "execution_count": 52
        }
      ]
    },
    {
      "cell_type": "code",
      "metadata": {
        "id": "uD5MljD31w4Q",
        "colab_type": "code",
        "colab": {
          "base_uri": "https://localhost:8080/",
          "height": 278
        },
        "outputId": "0eddf926-e365-45aa-e2fd-a9bb3ca81070"
      },
      "source": [
        "count_Class=pd.value_counts(dataset[\"label\"], sort= True)\n",
        "count_Class.plot(kind = 'bar',color = [\"green\",\"red\"])\n",
        "plt.title('Bar Plot')\n",
        "plt.show();"
      ],
      "execution_count": 91,
      "outputs": [
        {
          "output_type": "display_data",
          "data": {
            "image/png": "[encoded data removed]",
            "text/plain": [
              "<Figure size 432x288 with 1 Axes>"
            ]
          },
          "metadata": {
            "tags": [],
            "needs_background": "light"
          }
        }
      ]
    },
    {
      "cell_type": "code",
      "metadata": {
        "id": "RGhCRxTeF5WN",
        "colab_type": "code",
        "colab": {
          "base_uri": "https://localhost:8080/",
          "height": 35
        },
        "outputId": "9c0cc2a6-a140-4a95-cbd0-62985f873f46"
      },
      "source": [
        "f = feature_extraction.text.CountVectorizer(stop_words = 'english')\n",
        "X = f.fit_transform(dataset[\"message\"])\n",
        "np.shape(X)"
      ],
      "execution_count": 53,
      "outputs": [
        {
          "output_type": "execute_result",
          "data": {
            "text/plain": [
              "(5572, 8404)"
            ]
          },
          "metadata": {
            "tags": []
          },
          "execution_count": 53
        }
      ]
    },
    {
      "cell_type": "markdown",
      "metadata": {
        "id": "YB_wSIqeIEfv",
        "colab_type": "text"
      },
      "source": [
        "**Implementing Naive Bayes**"
      ]
    },
    {
      "cell_type": "code",
      "metadata": {
        "id": "2d-TvYtgH8XA",
        "colab_type": "code",
        "colab": {}
      },
      "source": [
        "# Classifying spam and not spam msgs as 1 and 0\n",
        "\n",
        "dataset[\"label\"]=dataset[\"label\"].map({'spam':1,'ham':0})\n",
        "X_train, X_test, y_train, y_test = model_selection.train_test_split(X, dataset['label'], test_size=0.70, random_state=42)"
      ],
      "execution_count": 32,
      "outputs": []
    },
    {
      "cell_type": "code",
      "metadata": {
        "id": "vIQD09AZIid8",
        "colab_type": "code",
        "colab": {}
      },
      "source": [
        "list_alpha = np.arange(1/100000, 20, 0.11)\n",
        "score_train = np.zeros(len(list_alpha))\n",
        "score_test = np.zeros(len(list_alpha))\n",
        "recall_test = np.zeros(len(list_alpha))\n",
        "precision_test= np.zeros(len(list_alpha))\n",
        "count = 0\n",
        "for alpha in list_alpha:\n",
        "    bayes = naive_bayes.MultinomialNB(alpha=alpha)\n",
        "    bayes.fit(X_train, y_train)\n",
        "    score_train[count] = bayes.score(X_train, y_train)\n",
        "    score_test[count]= bayes.score(X_test, y_test)\n",
        "    recall_test[count] = metrics.recall_score(y_test, bayes.predict(X_test))\n",
        "    precision_test[count] = metrics.precision_score(y_test, bayes.predict(X_test))\n",
        "    count = count + 1 "
      ],
      "execution_count": 33,
      "outputs": []
    },
    {
      "cell_type": "code",
      "metadata": {
        "id": "s9BMRkPlI9zb",
        "colab_type": "code",
        "colab": {
          "base_uri": "https://localhost:8080/",
          "height": 355
        },
        "outputId": "fb872903-1a69-445b-e92a-69ae60cc2ccc"
      },
      "source": [
        "matrix = np.matrix(np.c_[list_alpha, score_train, score_test, recall_test, precision_test])\n",
        "models = pd.DataFrame(data = matrix, columns = \n",
        "             ['alpha', 'Train Accuracy', 'Test Accuracy', 'Test Recall', 'Test Precision'])\n",
        "models.head(n=10)\n"
      ],
      "execution_count": 34,
      "outputs": [
        {
          "output_type": "execute_result",
          "data": {
            "text/html": [
              "<div>\n",
              "<style scoped>\n",
              "    .dataframe tbody tr th:only-of-type {\n",
              "        vertical-align: middle;\n",
              "    }\n",
              "\n",
              "    .dataframe tbody tr th {\n",
              "        vertical-align: top;\n",
              "    }\n",
              "\n",
              "    .dataframe thead th {\n",
              "        text-align: right;\n",
              "    }\n",
              "</style>\n",
              "<table border=\"1\" class=\"dataframe\">\n",
              "  <thead>\n",
              "    <tr style=\"text-align: right;\">\n",
              "      <th></th>\n",
              "      <th>alpha</th>\n",
              "      <th>Train Accuracy</th>\n",
              "      <th>Test Accuracy</th>\n",
              "      <th>Test Recall</th>\n",
              "      <th>Test Precision</th>\n",
              "    </tr>\n",
              "  </thead>\n",
              "  <tbody>\n",
              "    <tr>\n",
              "      <th>0</th>\n",
              "      <td>0.00001</td>\n",
              "      <td>0.998803</td>\n",
              "      <td>0.961805</td>\n",
              "      <td>0.913793</td>\n",
              "      <td>0.820998</td>\n",
              "    </tr>\n",
              "    <tr>\n",
              "      <th>1</th>\n",
              "      <td>0.11001</td>\n",
              "      <td>0.998803</td>\n",
              "      <td>0.966163</td>\n",
              "      <td>0.946360</td>\n",
              "      <td>0.826087</td>\n",
              "    </tr>\n",
              "    <tr>\n",
              "      <th>2</th>\n",
              "      <td>0.22001</td>\n",
              "      <td>0.999402</td>\n",
              "      <td>0.967444</td>\n",
              "      <td>0.938697</td>\n",
              "      <td>0.837607</td>\n",
              "    </tr>\n",
              "    <tr>\n",
              "      <th>3</th>\n",
              "      <td>0.33001</td>\n",
              "      <td>0.999402</td>\n",
              "      <td>0.968726</td>\n",
              "      <td>0.938697</td>\n",
              "      <td>0.844828</td>\n",
              "    </tr>\n",
              "    <tr>\n",
              "      <th>4</th>\n",
              "      <td>0.44001</td>\n",
              "      <td>0.999402</td>\n",
              "      <td>0.971546</td>\n",
              "      <td>0.929119</td>\n",
              "      <td>0.867621</td>\n",
              "    </tr>\n",
              "    <tr>\n",
              "      <th>5</th>\n",
              "      <td>0.55001</td>\n",
              "      <td>0.998803</td>\n",
              "      <td>0.976160</td>\n",
              "      <td>0.925287</td>\n",
              "      <td>0.899441</td>\n",
              "    </tr>\n",
              "    <tr>\n",
              "      <th>6</th>\n",
              "      <td>0.66001</td>\n",
              "      <td>0.998803</td>\n",
              "      <td>0.976160</td>\n",
              "      <td>0.919540</td>\n",
              "      <td>0.903955</td>\n",
              "    </tr>\n",
              "    <tr>\n",
              "      <th>7</th>\n",
              "      <td>0.77001</td>\n",
              "      <td>0.997606</td>\n",
              "      <td>0.977698</td>\n",
              "      <td>0.917625</td>\n",
              "      <td>0.915870</td>\n",
              "    </tr>\n",
              "    <tr>\n",
              "      <th>8</th>\n",
              "      <td>0.88001</td>\n",
              "      <td>0.997606</td>\n",
              "      <td>0.977954</td>\n",
              "      <td>0.909962</td>\n",
              "      <td>0.924125</td>\n",
              "    </tr>\n",
              "    <tr>\n",
              "      <th>9</th>\n",
              "      <td>0.99001</td>\n",
              "      <td>0.997606</td>\n",
              "      <td>0.978980</td>\n",
              "      <td>0.902299</td>\n",
              "      <td>0.938247</td>\n",
              "    </tr>\n",
              "  </tbody>\n",
              "</table>\n",
              "</div>"
            ],
            "text/plain": [
              "     alpha  Train Accuracy  Test Accuracy  Test Recall  Test Precision\n",
              "0  0.00001        0.998803       0.961805     0.913793        0.820998\n",
              "1  0.11001        0.998803       0.966163     0.946360        0.826087\n",
              "2  0.22001        0.999402       0.967444     0.938697        0.837607\n",
              "3  0.33001        0.999402       0.968726     0.938697        0.844828\n",
              "4  0.44001        0.999402       0.971546     0.929119        0.867621\n",
              "5  0.55001        0.998803       0.976160     0.925287        0.899441\n",
              "6  0.66001        0.998803       0.976160     0.919540        0.903955\n",
              "7  0.77001        0.997606       0.977698     0.917625        0.915870\n",
              "8  0.88001        0.997606       0.977954     0.909962        0.924125\n",
              "9  0.99001        0.997606       0.978980     0.902299        0.938247"
            ]
          },
          "metadata": {
            "tags": []
          },
          "execution_count": 34
        }
      ]
    },
    {
      "cell_type": "code",
      "metadata": {
        "id": "XEmJr7bJJBQL",
        "colab_type": "code",
        "colab": {
          "base_uri": "https://localhost:8080/",
          "height": 121
        },
        "outputId": "b8d8b737-d586-43b8-d285-e5af679feae1"
      },
      "source": [
        "best_index = models['Test Precision'].idxmax()\n",
        "models.iloc[best_index, :]"
      ],
      "execution_count": 35,
      "outputs": [
        {
          "output_type": "execute_result",
          "data": {
            "text/plain": [
              "alpha             10.670010\n",
              "Train Accuracy     0.977259\n",
              "Test Accuracy      0.962574\n",
              "Test Recall        0.720307\n",
              "Test Precision     1.000000\n",
              "Name: 97, dtype: float64"
            ]
          },
          "metadata": {
            "tags": []
          },
          "execution_count": 35
        }
      ]
    },
    {
      "cell_type": "code",
      "metadata": {
        "id": "jtjtzP9wJJyj",
        "colab_type": "code",
        "colab": {}
      },
      "source": [
        ""
      ],
      "execution_count": null,
      "outputs": []
    },
    {
      "cell_type": "markdown",
      "metadata": {
        "id": "_xu4BP5EJtN5",
        "colab_type": "text"
      },
      "source": [
        "**Random Forest Method**"
      ]
    },
    {
      "cell_type": "code",
      "metadata": {
        "id": "no3hqQoCJvyn",
        "colab_type": "code",
        "colab": {}
      },
      "source": [
        "rf = RandomForestClassifier(n_estimators=100,max_depth=None,n_jobs=-1)\n",
        "rf_model = rf.fit(X_train,y_train)"
      ],
      "execution_count": 57,
      "outputs": []
    },
    {
      "cell_type": "code",
      "metadata": {
        "id": "2JrMpC5CJxtK",
        "colab_type": "code",
        "colab": {
          "base_uri": "https://localhost:8080/",
          "height": 35
        },
        "outputId": "1c63a779-9823-41e3-f017-4ac64f249995"
      },
      "source": [
        "y_pred=rf_model.predict(X_test)\n",
        "precision,recall,fscore,support =score(y_test,y_pred,pos_label=1, average ='binary')\n",
        "print('Precision : {} / Recall : {} / fscore : {} / Accuracy: {}'.format(round(precision,3),round(recall,3),round(fscore,3),round((y_pred==y_test).sum()/len(y_test),3)))"
      ],
      "execution_count": 58,
      "outputs": [
        {
          "output_type": "stream",
          "text": [
            "Precision : 0.995 / Recall : 0.726 / fscore : 0.839 / Accuracy: 0.963\n"
          ],
          "name": "stdout"
        }
      ]
    },
    {
      "cell_type": "code",
      "metadata": {
        "id": "GMcOkT3gKEN1",
        "colab_type": "code",
        "colab": {}
      },
      "source": [
        ""
      ],
      "execution_count": null,
      "outputs": []
    },
    {
      "cell_type": "markdown",
      "metadata": {
        "id": "47T_IDTWy8h0",
        "colab_type": "text"
      },
      "source": [
        "**Using NLP techniques and using Tensorflow** "
      ]
    },
    {
      "cell_type": "code",
      "metadata": {
        "id": "T9PVGkzXy-ZG",
        "colab_type": "code",
        "colab": {}
      },
      "source": [
        "import tensorflow as tf\n",
        "from keras.preprocessing.text import Tokenizer\n",
        "from keras.layers import Embedding, LSTM, Dropout, Dense\n",
        "from keras.models import Sequential\n",
        "from keras.utils import to_categorical\n",
        "from keras.preprocessing.sequence import pad_sequences\n",
        "import tensorflow as tf\n"
      ],
      "execution_count": 74,
      "outputs": []
    },
    {
      "cell_type": "code",
      "metadata": {
        "id": "oBWeH7Y-zHbn",
        "colab_type": "code",
        "colab": {}
      },
      "source": [
        "vocab_size = 400\n",
        "oov_tok = \"<OOV>\"\n",
        "max_length = 250\n",
        "embedding_dim = 16\n",
        "encode = ({'ham': 0, 'spam': 1} )\n",
        "#new dataset with replaced values\n",
        "dataset = dataset.replace(encode)\n"
      ],
      "execution_count": 75,
      "outputs": []
    },
    {
      "cell_type": "code",
      "metadata": {
        "id": "VDV4kEu0zIlg",
        "colab_type": "code",
        "colab": {}
      },
      "source": [
        "X = dataset['message']\n",
        "Y = dataset['label']\n",
        "tokenizer = Tokenizer(num_words=vocab_size, oov_token=oov_tok)\n",
        "tokenizer.fit_on_texts(X)\n",
        "# convert to sequence of integers\n",
        "X = tokenizer.texts_to_sequences(X)"
      ],
      "execution_count": 76,
      "outputs": []
    },
    {
      "cell_type": "code",
      "metadata": {
        "id": "GOI7t-VWzNI6",
        "colab_type": "code",
        "colab": {}
      },
      "source": [
        "X = np.array(X)\n",
        "y = np.array(Y)"
      ],
      "execution_count": 77,
      "outputs": []
    },
    {
      "cell_type": "code",
      "metadata": {
        "id": "KjewpYFdzRkc",
        "colab_type": "code",
        "colab": {}
      },
      "source": [
        "X = pad_sequences(X, maxlen=max_length)"
      ],
      "execution_count": 78,
      "outputs": []
    },
    {
      "cell_type": "code",
      "metadata": {
        "id": "Se11So0dzVOQ",
        "colab_type": "code",
        "colab": {
          "base_uri": "https://localhost:8080/",
          "height": 295
        },
        "outputId": "58035107-b402-4d68-e256-58c1b065f348"
      },
      "source": [
        "model = tf.keras.Sequential([\n",
        "    tf.keras.layers.Embedding(vocab_size, embedding_dim, input_length=max_length),\n",
        "    tf.keras.layers.GlobalAveragePooling1D(),\n",
        "    tf.keras.layers.Dense(24, activation='relu'),\n",
        "    tf.keras.layers.Dense(1, activation='sigmoid')\n",
        "])\n",
        "model.compile(loss='binary_crossentropy',optimizer='adam',metrics=['accuracy'])\n",
        "model.summary()"
      ],
      "execution_count": 79,
      "outputs": [
        {
          "output_type": "stream",
          "text": [
            "Model: \"sequential_1\"\n",
            "_________________________________________________________________\n",
            "Layer (type)                 Output Shape              Param #   \n",
            "=================================================================\n",
            "embedding_1 (Embedding)      (None, 250, 16)           6400      \n",
            "_________________________________________________________________\n",
            "global_average_pooling1d_1 ( (None, 16)                0         \n",
            "_________________________________________________________________\n",
            "dense_2 (Dense)              (None, 24)                408       \n",
            "_________________________________________________________________\n",
            "dense_3 (Dense)              (None, 1)                 25        \n",
            "=================================================================\n",
            "Total params: 6,833\n",
            "Trainable params: 6,833\n",
            "Non-trainable params: 0\n",
            "_________________________________________________________________\n"
          ],
          "name": "stdout"
        }
      ]
    },
    {
      "cell_type": "code",
      "metadata": {
        "id": "fLPzLmwWzdqc",
        "colab_type": "code",
        "colab": {
          "base_uri": "https://localhost:8080/",
          "height": 1000
        },
        "outputId": "5ffeb929-b01c-43a3-8ba4-b0c87f970394"
      },
      "source": [
        "num_epochs = 50\n",
        "X_train, X_test, y_train, y_test = train_test_split(X, Y, test_size=.20, random_state=7)\n",
        "history = model.fit(X_train, y_train, epochs=num_epochs, validation_data=(X_test,y_test), verbose=2)"
      ],
      "execution_count": 82,
      "outputs": [
        {
          "output_type": "stream",
          "text": [
            "Epoch 1/50\n",
            "140/140 - 0s - loss: 0.0257 - accuracy: 0.9912 - val_loss: 0.0432 - val_accuracy: 0.9883\n",
            "Epoch 2/50\n",
            "140/140 - 0s - loss: 0.0251 - accuracy: 0.9915 - val_loss: 0.0439 - val_accuracy: 0.9883\n",
            "Epoch 3/50\n",
            "140/140 - 0s - loss: 0.0244 - accuracy: 0.9915 - val_loss: 0.0440 - val_accuracy: 0.9892\n",
            "Epoch 4/50\n",
            "140/140 - 0s - loss: 0.0251 - accuracy: 0.9917 - val_loss: 0.0445 - val_accuracy: 0.9883\n",
            "Epoch 5/50\n",
            "140/140 - 0s - loss: 0.0237 - accuracy: 0.9924 - val_loss: 0.0453 - val_accuracy: 0.9892\n",
            "Epoch 6/50\n",
            "140/140 - 0s - loss: 0.0237 - accuracy: 0.9921 - val_loss: 0.0444 - val_accuracy: 0.9883\n",
            "Epoch 7/50\n",
            "140/140 - 0s - loss: 0.0230 - accuracy: 0.9924 - val_loss: 0.0446 - val_accuracy: 0.9883\n",
            "Epoch 8/50\n",
            "140/140 - 0s - loss: 0.0234 - accuracy: 0.9926 - val_loss: 0.0471 - val_accuracy: 0.9901\n",
            "Epoch 9/50\n",
            "140/140 - 0s - loss: 0.0228 - accuracy: 0.9928 - val_loss: 0.0458 - val_accuracy: 0.9892\n",
            "Epoch 10/50\n",
            "140/140 - 0s - loss: 0.0264 - accuracy: 0.9912 - val_loss: 0.0507 - val_accuracy: 0.9901\n",
            "Epoch 11/50\n",
            "140/140 - 0s - loss: 0.0215 - accuracy: 0.9928 - val_loss: 0.0450 - val_accuracy: 0.9883\n",
            "Epoch 12/50\n",
            "140/140 - 0s - loss: 0.0212 - accuracy: 0.9928 - val_loss: 0.0478 - val_accuracy: 0.9901\n",
            "Epoch 13/50\n",
            "140/140 - 0s - loss: 0.0211 - accuracy: 0.9937 - val_loss: 0.0459 - val_accuracy: 0.9883\n",
            "Epoch 14/50\n",
            "140/140 - 0s - loss: 0.0213 - accuracy: 0.9930 - val_loss: 0.0507 - val_accuracy: 0.9901\n",
            "Epoch 15/50\n",
            "140/140 - 0s - loss: 0.0214 - accuracy: 0.9926 - val_loss: 0.0467 - val_accuracy: 0.9892\n",
            "Epoch 16/50\n",
            "140/140 - 0s - loss: 0.0202 - accuracy: 0.9937 - val_loss: 0.0469 - val_accuracy: 0.9892\n",
            "Epoch 17/50\n",
            "140/140 - 0s - loss: 0.0201 - accuracy: 0.9937 - val_loss: 0.0462 - val_accuracy: 0.9892\n",
            "Epoch 18/50\n",
            "140/140 - 0s - loss: 0.0203 - accuracy: 0.9935 - val_loss: 0.0470 - val_accuracy: 0.9892\n",
            "Epoch 19/50\n",
            "140/140 - 0s - loss: 0.0199 - accuracy: 0.9937 - val_loss: 0.0471 - val_accuracy: 0.9892\n",
            "Epoch 20/50\n",
            "140/140 - 0s - loss: 0.0196 - accuracy: 0.9933 - val_loss: 0.0523 - val_accuracy: 0.9883\n",
            "Epoch 21/50\n",
            "140/140 - 0s - loss: 0.0198 - accuracy: 0.9926 - val_loss: 0.0503 - val_accuracy: 0.9901\n",
            "Epoch 22/50\n",
            "140/140 - 0s - loss: 0.0193 - accuracy: 0.9935 - val_loss: 0.0490 - val_accuracy: 0.9892\n",
            "Epoch 23/50\n",
            "140/140 - 0s - loss: 0.0189 - accuracy: 0.9946 - val_loss: 0.0502 - val_accuracy: 0.9892\n",
            "Epoch 24/50\n",
            "140/140 - 0s - loss: 0.0183 - accuracy: 0.9944 - val_loss: 0.0530 - val_accuracy: 0.9901\n",
            "Epoch 25/50\n",
            "140/140 - 0s - loss: 0.0180 - accuracy: 0.9939 - val_loss: 0.0545 - val_accuracy: 0.9901\n",
            "Epoch 26/50\n",
            "140/140 - 0s - loss: 0.0177 - accuracy: 0.9942 - val_loss: 0.0498 - val_accuracy: 0.9892\n",
            "Epoch 27/50\n",
            "140/140 - 0s - loss: 0.0174 - accuracy: 0.9942 - val_loss: 0.0650 - val_accuracy: 0.9892\n",
            "Epoch 28/50\n",
            "140/140 - 0s - loss: 0.0182 - accuracy: 0.9937 - val_loss: 0.0506 - val_accuracy: 0.9892\n",
            "Epoch 29/50\n",
            "140/140 - 0s - loss: 0.0173 - accuracy: 0.9953 - val_loss: 0.0510 - val_accuracy: 0.9892\n",
            "Epoch 30/50\n",
            "140/140 - 0s - loss: 0.0177 - accuracy: 0.9951 - val_loss: 0.0534 - val_accuracy: 0.9901\n",
            "Epoch 31/50\n",
            "140/140 - 0s - loss: 0.0166 - accuracy: 0.9944 - val_loss: 0.0569 - val_accuracy: 0.9901\n",
            "Epoch 32/50\n",
            "140/140 - 0s - loss: 0.0164 - accuracy: 0.9951 - val_loss: 0.0562 - val_accuracy: 0.9901\n",
            "Epoch 33/50\n",
            "140/140 - 0s - loss: 0.0169 - accuracy: 0.9944 - val_loss: 0.0518 - val_accuracy: 0.9892\n",
            "Epoch 34/50\n",
            "140/140 - 0s - loss: 0.0157 - accuracy: 0.9948 - val_loss: 0.0521 - val_accuracy: 0.9901\n",
            "Epoch 35/50\n",
            "140/140 - 0s - loss: 0.0161 - accuracy: 0.9957 - val_loss: 0.0535 - val_accuracy: 0.9892\n",
            "Epoch 36/50\n",
            "140/140 - 0s - loss: 0.0154 - accuracy: 0.9955 - val_loss: 0.0526 - val_accuracy: 0.9901\n",
            "Epoch 37/50\n",
            "140/140 - 0s - loss: 0.0163 - accuracy: 0.9957 - val_loss: 0.0532 - val_accuracy: 0.9892\n",
            "Epoch 38/50\n",
            "140/140 - 0s - loss: 0.0157 - accuracy: 0.9957 - val_loss: 0.0535 - val_accuracy: 0.9892\n",
            "Epoch 39/50\n",
            "140/140 - 0s - loss: 0.0150 - accuracy: 0.9957 - val_loss: 0.0540 - val_accuracy: 0.9892\n",
            "Epoch 40/50\n",
            "140/140 - 0s - loss: 0.0149 - accuracy: 0.9953 - val_loss: 0.0562 - val_accuracy: 0.9892\n",
            "Epoch 41/50\n",
            "140/140 - 0s - loss: 0.0154 - accuracy: 0.9957 - val_loss: 0.0568 - val_accuracy: 0.9892\n",
            "Epoch 42/50\n",
            "140/140 - 0s - loss: 0.0150 - accuracy: 0.9955 - val_loss: 0.0561 - val_accuracy: 0.9892\n",
            "Epoch 43/50\n",
            "140/140 - 0s - loss: 0.0141 - accuracy: 0.9964 - val_loss: 0.0559 - val_accuracy: 0.9883\n",
            "Epoch 44/50\n",
            "140/140 - 0s - loss: 0.0150 - accuracy: 0.9957 - val_loss: 0.0566 - val_accuracy: 0.9883\n",
            "Epoch 45/50\n",
            "140/140 - 0s - loss: 0.0139 - accuracy: 0.9960 - val_loss: 0.0614 - val_accuracy: 0.9901\n",
            "Epoch 46/50\n",
            "140/140 - 0s - loss: 0.0137 - accuracy: 0.9962 - val_loss: 0.0648 - val_accuracy: 0.9901\n",
            "Epoch 47/50\n",
            "140/140 - 0s - loss: 0.0144 - accuracy: 0.9966 - val_loss: 0.0585 - val_accuracy: 0.9874\n",
            "Epoch 48/50\n",
            "140/140 - 0s - loss: 0.0153 - accuracy: 0.9960 - val_loss: 0.0587 - val_accuracy: 0.9883\n",
            "Epoch 49/50\n",
            "140/140 - 0s - loss: 0.0140 - accuracy: 0.9969 - val_loss: 0.0576 - val_accuracy: 0.9892\n",
            "Epoch 50/50\n",
            "140/140 - 0s - loss: 0.0137 - accuracy: 0.9969 - val_loss: 0.0667 - val_accuracy: 0.9892\n"
          ],
          "name": "stdout"
        }
      ]
    },
    {
      "cell_type": "code",
      "metadata": {
        "id": "f2W932zozgjY",
        "colab_type": "code",
        "colab": {
          "base_uri": "https://localhost:8080/",
          "height": 52
        },
        "outputId": "22accfa7-5faf-4560-fe08-bd2b91efdee4"
      },
      "source": [
        "results = model.evaluate(X_test, y_test)\n",
        "loss = results[0]\n",
        "accuracy = results[1]\n",
        "\n",
        "\n",
        "print(f\"[+] Accuracy: {accuracy*100:.2f}%\")"
      ],
      "execution_count": 84,
      "outputs": [
        {
          "output_type": "stream",
          "text": [
            "35/35 [==============================] - 0s 1ms/step - loss: 0.0667 - accuracy: 0.9892\n",
            "[+] Accuracy: 98.92%\n"
          ],
          "name": "stdout"
        }
      ]
    },
    {
      "cell_type": "markdown",
      "metadata": {
        "id": "aCJQweUj1VSB",
        "colab_type": "text"
      },
      "source": [
        "**Doing the Predictions from the Model**"
      ]
    },
    {
      "cell_type": "code",
      "metadata": {
        "id": "8WAaIXT-1O4a",
        "colab_type": "code",
        "colab": {}
      },
      "source": [
        "from keras.preprocessing import sequence"
      ],
      "execution_count": 85,
      "outputs": []
    },
    {
      "cell_type": "code",
      "metadata": {
        "id": "E3YyH_d91ZHD",
        "colab_type": "code",
        "colab": {}
      },
      "source": [
        "#Defining the function\n",
        "def get_predictions(txts):\n",
        "    txts = tokenizer.texts_to_sequences(txts)\n",
        "    txts = sequence.pad_sequences(txts, maxlen=max_length)\n",
        "    preds = model.predict(txts)\n",
        "    if(preds[0] > 0.5):\n",
        "        print(\"SPAM MESSAGE\")\n",
        "        \n",
        "    else:\n",
        "        print('NOT SPAM')"
      ],
      "execution_count": 87,
      "outputs": []
    },
    {
      "cell_type": "code",
      "metadata": {
        "id": "tsc76wCx1cT9",
        "colab_type": "code",
        "colab": {
          "base_uri": "https://localhost:8080/",
          "height": 35
        },
        "outputId": "9f3606ab-7493-4007-c22f-6b2cc95a48f4"
      },
      "source": [
        "txts=[\"You have won a free ticket to las vegas. Contact now\"]\n",
        "\n",
        "get_predictions(txts)"
      ],
      "execution_count": 88,
      "outputs": [
        {
          "output_type": "stream",
          "text": [
            "SPAM MESSAGE\n"
          ],
          "name": "stdout"
        }
      ]
    },
    {
      "cell_type": "code",
      "metadata": {
        "id": "-6uQC6-K1jc2",
        "colab_type": "code",
        "colab": {
          "base_uri": "https://localhost:8080/",
          "height": 35
        },
        "outputId": "6ab0769e-757b-49b7-a74e-c19a365a5c30"
      },
      "source": [
        "txts=[\"Hey there call me asap!!\"]\n",
        "\n",
        "get_predictions(txts)"
      ],
      "execution_count": 89,
      "outputs": [
        {
          "output_type": "stream",
          "text": [
            "NOT SPAM\n"
          ],
          "name": "stdout"
        }
      ]
    },
    {
      "cell_type": "code",
      "metadata": {
        "id": "eJuZctVd1lxb",
        "colab_type": "code",
        "colab": {}
      },
      "source": [
        ""
      ],
      "execution_count": null,
      "outputs": []
    }
  ]
}